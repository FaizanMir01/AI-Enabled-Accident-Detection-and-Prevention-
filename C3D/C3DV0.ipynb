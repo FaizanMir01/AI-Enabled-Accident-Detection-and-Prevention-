{
  "nbformat": 4,
  "nbformat_minor": 0,
  "metadata": {
    "colab": {
      "name": "C3DV0.ipynb",
      "version": "0.3.2",
      "provenance": [],
      "collapsed_sections": []
    },
    "kernelspec": {
      "name": "python3",
      "display_name": "Python 3"
    },
    "accelerator": "GPU"
  },
  "cells": [
    {
      "metadata": {
        "id": "VATvYH7lJAD7",
        "colab_type": "code",
        "colab": {}
      },
      "cell_type": "code",
      "source": [
        "# check Utubtu version\n",
        "!lsb_release -a\n",
        "# by default, CUDA is enabled under GPU mode of Google Colab\n",
        "!ls /usr/local"
      ],
      "execution_count": 0,
      "outputs": []
    },
    {
      "metadata": {
        "id": "LC_lWLT_LjCo",
        "colab_type": "code",
        "colab": {}
      },
      "cell_type": "code",
      "source": [
        "# optional\n",
        "from google.colab import drive\n",
        "drive.mount('/content/gdrive')"
      ],
      "execution_count": 0,
      "outputs": []
    },
    {
      "metadata": {
        "id": "exdUCY5QwaYU",
        "colab_type": "text"
      },
      "cell_type": "markdown",
      "source": [
        "# Note\n",
        "\n",
        "\n",
        "```\n",
        "As of the CUDA 8 release, gcc 5.3 is fully supported on Ubuntu 16.06 and Fedora 23.\n",
        "As of the CUDA 9 release, gcc 6 is fully supported on Ubuntu 16.04, Ubuntu 17.04 and Fedora 25.\n",
        "The CUDA 9.2 release adds support for gcc 7\n",
        "```\n",
        "\n"
      ]
    },
    {
      "metadata": {
        "id": "tDAr9wyRdqPp",
        "colab_type": "code",
        "colab": {}
      },
      "cell_type": "code",
      "source": [
        "# make g++, nvcc and boost work together (compatible). \n",
        "# Better install gcc before anything else\n",
        "# update-alternatives --install [link] [name] [path] [priority]\n",
        "\n",
        "!sudo apt update\n",
        "!sudo apt install g++-5\n",
        "!sudo update-alternatives --remove-all gcc \n",
        "!sudo update-alternatives --remove-all g++\n",
        "\n",
        "!sudo update-alternatives --install /usr/bin/gcc gcc /usr/bin/gcc-5 20\n",
        "!sudo update-alternatives --install /usr/bin/g++ g++ /usr/bin/g++-5 20\n",
        "\n",
        "!sudo update-alternatives --install /usr/bin/cc cc /usr/bin/gcc 30\n",
        "!sudo update-alternatives --set cc /usr/bin/gcc\n",
        "\n",
        "!sudo update-alternatives --install /usr/bin/c++ c++ /usr/bin/g++ 30\n",
        "!sudo update-alternatives --set c++ /usr/bin/g++"
      ],
      "execution_count": 0,
      "outputs": []
    },
    {
      "metadata": {
        "id": "yFPKFk1BNpgp",
        "colab_type": "code",
        "colab": {}
      },
      "cell_type": "code",
      "source": [
        "!sudo apt-get install -f\n",
        "\n",
        "# install dependencies\n",
        "\n",
        "!sudo apt-get install -y libprotobuf-dev libleveldb-dev libsnappy-dev libhdf5-serial-dev protobuf-compiler\n",
        "!sudo apt-get install libatlas-base-dev\n",
        "!sudo apt-get install -y --no-install-recommends libboost-all-dev\n",
        "!sudo apt-get install -y libgflags-dev libgoogle-glog-dev liblmdb-dev"
      ],
      "execution_count": 0,
      "outputs": []
    },
    {
      "metadata": {
        "id": "HgJqGdHC5Tkv",
        "colab_type": "text"
      },
      "cell_type": "markdown",
      "source": [
        "# Note\n",
        "```\n",
        "CUDA, OPENCV\n",
        "• BLAS (Basic Linear Algebra Subprograms): operations like matrix\n",
        "multiplication, matrix addition, both implementation for CPU(cBLAS) and\n",
        "GPU(cuBLAS). provided by MKL(INTEL), ATLAS, openBLAS, etc.\n",
        "• Boost: a c++ library. > Use some of its math functions and shared_pointer.\n",
        "• glog,gflags provide logging & command line utilities. > Essential for\n",
        "debugging.\n",
        "• leveldb, lmdb: database io for your program. > Need to know this for\n",
        "preparing your own data.\n",
        "• protobuf: an efficient and flexible way to define data structure. > Need to\n",
        "know this for defining new layer\n",
        "```\n",
        "\n"
      ]
    },
    {
      "metadata": {
        "id": "ekk5SWHHTK4E",
        "colab_type": "code",
        "colab": {}
      },
      "cell_type": "code",
      "source": [
        "%cd /content\n",
        "!git clone https://github.com/dolongbien/C3D.git"
      ],
      "execution_count": 0,
      "outputs": []
    },
    {
      "metadata": {
        "id": "nZboRTCccmN0",
        "colab_type": "code",
        "colab": {}
      },
      "cell_type": "code",
      "source": [
        "# compile\n",
        "\n",
        "%cd /content/C3D/C3D-v1.0/\n",
        "!make clean\n",
        "!make all -j8"
      ],
      "execution_count": 0,
      "outputs": []
    },
    {
      "metadata": {
        "id": "A0oP4_pjff5u",
        "colab_type": "code",
        "colab": {}
      },
      "cell_type": "code",
      "source": [
        "!make test"
      ],
      "execution_count": 0,
      "outputs": []
    },
    {
      "metadata": {
        "id": "egr2btF9gXsu",
        "colab_type": "code",
        "colab": {}
      },
      "cell_type": "code",
      "source": [
        "# optional\n",
        "!make runtest"
      ],
      "execution_count": 0,
      "outputs": []
    },
    {
      "metadata": {
        "id": "nGe6y0K008jQ",
        "colab_type": "code",
        "colab": {}
      },
      "cell_type": "code",
      "source": [
        "%cd /content/C3D/C3D-v1.0/examples/c3d_feature_extraction/\n",
        "!wget -O conv3d_deepnetA_sport1m_iter_1900000 https://www.dropbox.com/s/vr8ckp0pxgbldhs/conv3d_deepnetA_sport1m_iter_1900000?dl=0"
      ],
      "execution_count": 0,
      "outputs": []
    },
    {
      "metadata": {
        "id": "FnPbd2ZIwtk8",
        "colab_type": "text"
      },
      "cell_type": "markdown",
      "source": [
        "# Extract feature, check output folder in c3d_sport1m_feature_extraction_video.sh\n",
        "\n",
        "\n"
      ]
    },
    {
      "metadata": {
        "id": "CZc3vtYhhO-b",
        "colab_type": "code",
        "colab": {}
      },
      "cell_type": "code",
      "source": [
        "# extract feature\n",
        "%cd /content/C3D/C3D-v1.0/examples/c3d_feature_extraction\n",
        "!sudo bash c3d_sport1m_feature_extraction_video.sh"
      ],
      "execution_count": 0,
      "outputs": []
    }
  ]
}
