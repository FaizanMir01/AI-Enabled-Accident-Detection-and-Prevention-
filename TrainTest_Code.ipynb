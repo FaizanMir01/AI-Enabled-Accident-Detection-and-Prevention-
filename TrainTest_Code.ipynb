{
  "nbformat": 4,
  "nbformat_minor": 0,
  "metadata": {
    "colab": {
      "name": "Train_Test.ipynb",
      "version": "0.3.2",
      "provenance": [],
      "collapsed_sections": [],
      "toc_visible": true
    },
    "kernelspec": {
      "name": "python3",
      "display_name": "Python 3"
    },
    "accelerator": "GPU"
  },
  "cells": [
    {
      "cell_type": "code",
      "metadata": {
        "id": "1SZQZEr2W4nd",
        "colab_type": "code",
        "colab": {}
      },
      "source": [
        "from google.colab import drive\n",
        "drive.mount('/content/gdrive')"
      ],
      "execution_count": 0,
      "outputs": []
    },
    {
      "cell_type": "markdown",
      "metadata": {
        "id": "bagzZBSYf4BE",
        "colab_type": "text"
      },
      "source": [
        "# Install dependencies\n",
        "Note: turn on GPU mode to start using CUDA, change runtime type to Python 3.\n",
        "\n",
        "1. Keras 1.1.0\n",
        "2. Theano 0.9.0\n",
        "3. By default, latest CUDA installed. Downgrade to CUDA 8.0 for compatible purpose, modify GCC version accordingly."
      ]
    },
    {
      "cell_type": "code",
      "metadata": {
        "id": "lvJFkJo97q0q",
        "colab_type": "code",
        "colab": {}
      },
      "source": [
        "!sudo apt-get install python-yaml -y\n",
        "!sudo apt-get install libhdf5-serial-dev -y\n",
        "!sudo pip install keras==1.1.0\n",
        "!pip install theano==0.9.0\n",
        "!pip install path.py"
      ],
      "execution_count": 0,
      "outputs": []
    },
    {
      "cell_type": "code",
      "metadata": {
        "id": "QCQalthhapyS",
        "colab_type": "code",
        "colab": {}
      },
      "source": [
        "!apt update -qq;\n",
        "!wget https://developer.nvidia.com/compute/cuda/8.0/Prod2/local_installers/cuda-repo-ubuntu1604-8-0-local-ga2_8.0.61-1_amd64-deb;\n",
        "!dpkg -i cuda-repo-ubuntu1604-8-0-local-ga2_8.0.61-1_amd64-deb;\n",
        "!apt-key add /var/cuda-repo-8-0-local-ga2/7fa2af80.pub;\n",
        "!apt-get update -qq;\n"
      ],
      "execution_count": 0,
      "outputs": []
    },
    {
      "cell_type": "code",
      "metadata": {
        "id": "pNNVtS4uXnf9",
        "colab_type": "code",
        "colab": {}
      },
      "source": [
        "!apt install g++-5\n",
        "!update-alternatives --remove-all gcc \n",
        "!update-alternatives --remove-all g++\n",
        "\n",
        "!update-alternatives --install /usr/bin/gcc gcc /usr/bin/gcc-5 20\n",
        "!update-alternatives --install /usr/bin/g++ g++ /usr/bin/g++-5 20\n",
        "\n",
        "!update-alternatives --install /usr/bin/cc cc /usr/bin/gcc 30\n",
        "!update-alternatives --set cc /usr/bin/gcc\n",
        "\n",
        "!update-alternatives --install /usr/bin/c++ c++ /usr/bin/g++ 30\n",
        "!update-alternatives --set c++ /usr/bin/g++\n",
        "\n",
        "!sudo apt install cuda-8.0;"
      ],
      "execution_count": 0,
      "outputs": []
    },
    {
      "cell_type": "markdown",
      "metadata": {
        "id": "EEXt-ThxffKy",
        "colab_type": "text"
      },
      "source": [
        "**cuDNN (v5.1):  a GPU-accelerated library of primitives for deep neural networks**"
      ]
    },
    {
      "cell_type": "code",
      "metadata": {
        "id": "CSDm_SkvXW6t",
        "colab_type": "code",
        "colab": {}
      },
      "source": [
        "%cd /content\n",
        "!wget http://developer.download.nvidia.com/compute/redist/cudnn/v5.1/cudnn-8.0-linux-x64-v5.1.tgz\n",
        "!tar -xzvf cudnn-8.0-linux-x64-v5.1.tgz\n",
        "!sudo cp -P cuda/include/cudnn.h /usr/local/cuda-8.0/include\n",
        "!sudo cp -P cuda/lib64/libcudnn* /usr/local/cuda-8.0/lib64/\n",
        "!sudo chmod a+r /usr/local/cuda-8.0/lib64/libcudnn*"
      ],
      "execution_count": 0,
      "outputs": []
    },
    {
      "cell_type": "code",
      "metadata": {
        "id": "swM5Oy6FNF76",
        "colab_type": "code",
        "colab": {}
      },
      "source": [
        "!gcc --version\n",
        "!nvcc -V"
      ],
      "execution_count": 0,
      "outputs": []
    },
    {
      "cell_type": "code",
      "metadata": {
        "id": "oebz5Db-6CY7",
        "colab_type": "code",
        "outputId": "0e3e9d0e-dada-4fd0-fac4-3baed1d9997f",
        "colab": {
          "base_uri": "https://localhost:8080/",
          "height": 289
        }
      },
      "source": [
        "!nvidia-smi"
      ],
      "execution_count": 4,
      "outputs": [
        {
          "output_type": "stream",
          "text": [
            "Wed Jun 26 15:10:20 2019       \n",
            "+-----------------------------------------------------------------------------+\n",
            "| NVIDIA-SMI 418.67       Driver Version: 410.79       CUDA Version: 10.0     |\n",
            "|-------------------------------+----------------------+----------------------+\n",
            "| GPU  Name        Persistence-M| Bus-Id        Disp.A | Volatile Uncorr. ECC |\n",
            "| Fan  Temp  Perf  Pwr:Usage/Cap|         Memory-Usage | GPU-Util  Compute M. |\n",
            "|===============================+======================+======================|\n",
            "|   0  Tesla K80           Off  | 00000000:00:04.0 Off |                    0 |\n",
            "| N/A   32C    P0    56W / 149W |     88MiB / 11441MiB |      0%      Default |\n",
            "+-------------------------------+----------------------+----------------------+\n",
            "                                                                               \n",
            "+-----------------------------------------------------------------------------+\n",
            "| Processes:                                                       GPU Memory |\n",
            "|  GPU       PID   Type   Process name                             Usage      |\n",
            "|=============================================================================|\n",
            "+-----------------------------------------------------------------------------+\n"
          ],
          "name": "stdout"
        }
      ]
    },
    {
      "cell_type": "code",
      "metadata": {
        "id": "zFgJUD1zWatO",
        "colab_type": "code",
        "colab": {}
      },
      "source": [
        "!pip install numpy==1.14.6 # downgrade to match the Theano version (if needed)"
      ],
      "execution_count": 0,
      "outputs": []
    },
    {
      "cell_type": "markdown",
      "metadata": {
        "id": "oiH-kHVwUmn_",
        "colab_type": "text"
      },
      "source": [
        "#Initialization"
      ]
    },
    {
      "cell_type": "code",
      "metadata": {
        "id": "aF_O3F8DKRJa",
        "colab_type": "code",
        "colab": {}
      },
      "source": [
        "import os\n",
        "os.environ[\"THEANO_FLAGS\"] = \"mode=FAST_RUN,device=gpu0,floatX=float32\"\n",
        "os.environ[\"KERAS_BACKEND\"] = \"theano\""
      ],
      "execution_count": 0,
      "outputs": []
    },
    {
      "cell_type": "code",
      "metadata": {
        "id": "1mrErt_G5MqR",
        "colab_type": "code",
        "colab": {
          "base_uri": "https://localhost:8080/",
          "height": 173
        },
        "outputId": "0d9f1fec-3db1-4aed-af66-98067c40c3a8"
      },
      "source": [
        "from keras.models import Sequential\n",
        "from keras.layers import Dense, Dropout, Activation, TimeDistributedDense ,LSTM,Reshape\n",
        "from keras.regularizers import l2\n",
        "from keras.optimizers import SGD,adam, Adagrad\n",
        "from scipy.io import loadmat, savemat\n",
        "from keras.models import model_from_json\n",
        "import theano.tensor as T\n",
        "import theano\n",
        "import csv\n",
        "import configparser\n",
        "import collections\n",
        "import time\n",
        "import csv\n",
        "import os\n",
        "from os import listdir\n",
        "import skimage.transform\n",
        "from skimage import color\n",
        "from os.path import isfile, join\n",
        "import numpy as np\n",
        "import numpy\n",
        "from datetime import datetime\n",
        "import path\n",
        "from os.path import basename\n",
        "import glob\n",
        "import matplotlib.pyplot as plt\n",
        "import theano.sandbox\n",
        "theano.sandbox.cuda.use('gpu0')\n",
        "from IPython.display import clear_output\n",
        "import math"
      ],
      "execution_count": 2,
      "outputs": [
        {
          "output_type": "stream",
          "text": [
            "Using Theano backend.\n",
            "WARNING (theano.sandbox.cuda): The cuda backend is deprecated and will be removed in the next release (v0.10).  Please switch to the gpuarray backend. You can get more information about how to switch at this URL:\n",
            " https://github.com/Theano/Theano/wiki/Converting-to-the-new-gpu-back-end%28gpuarray%29\n",
            "\n",
            "Using gpu device 0: Tesla K80 (CNMeM is disabled, cuDNN 5110)\n",
            "WARNING (theano.sandbox.cuda): The cuda backend is deprecated and will be removed in the next release (v0.10).  Please switch to the gpuarray backend. You can get more information about how to switch at this URL:\n",
            " https://github.com/Theano/Theano/wiki/Converting-to-the-new-gpu-back-end%28gpuarray%29\n",
            "\n"
          ],
          "name": "stderr"
        }
      ]
    },
    {
      "cell_type": "markdown",
      "metadata": {
        "id": "4AgAlbvLnrCR",
        "colab_type": "text"
      },
      "source": [
        "**3 FC Layers**"
      ]
    },
    {
      "cell_type": "code",
      "metadata": {
        "id": "qJ3IOx5IRXDv",
        "colab_type": "code",
        "outputId": "afa11ab0-8504-4958-9b0e-85e77a910996",
        "colab": {
          "base_uri": "https://localhost:8080/",
          "height": 306
        }
      },
      "source": [
        "print(\"Create Model\")\n",
        "model = Sequential()\n",
        "model.add(Dense(512, input_dim=4096,init='glorot_normal',W_regularizer=l2(0.001),activation='relu'))\n",
        "model.add(Dropout(0.6))\n",
        "model.add(Dense(32,init='glorot_normal',W_regularizer=l2(0.001)))\n",
        "model.add(Dropout(0.6))\n",
        "model.add(Dense(1,init='glorot_normal',W_regularizer=l2(0.001),activation='sigmoid'))\n",
        "print(model.summary())"
      ],
      "execution_count": 7,
      "outputs": [
        {
          "output_type": "stream",
          "text": [
            "Create Model\n",
            "____________________________________________________________________________________________________\n",
            "Layer (type)                     Output Shape          Param #     Connected to                     \n",
            "====================================================================================================\n",
            "dense_1 (Dense)                  (None, 512)           2097664     dense_input_1[0][0]              \n",
            "____________________________________________________________________________________________________\n",
            "dropout_1 (Dropout)              (None, 512)           0           dense_1[0][0]                    \n",
            "____________________________________________________________________________________________________\n",
            "dense_2 (Dense)                  (None, 32)            16416       dropout_1[0][0]                  \n",
            "____________________________________________________________________________________________________\n",
            "dropout_2 (Dropout)              (None, 32)            0           dense_2[0][0]                    \n",
            "____________________________________________________________________________________________________\n",
            "dense_3 (Dense)                  (None, 1)             33          dropout_2[0][0]                  \n",
            "====================================================================================================\n",
            "Total params: 2114113\n",
            "____________________________________________________________________________________________________\n",
            "None\n"
          ],
          "name": "stdout"
        }
      ]
    },
    {
      "cell_type": "code",
      "metadata": {
        "id": "SqebxtGM5dV9",
        "colab_type": "code",
        "outputId": "e0380a1c-36fd-485b-9a0f-4158d5f86c35",
        "colab": {
          "base_uri": "https://localhost:8080/",
          "height": 68
        }
      },
      "source": [
        "# COUNT THE NUMBER OF VIDEO\n",
        "!ls -l \"/content/gdrive/My Drive/HumanBehaviors/C3D_Feature_txt/Train_RoadAccidents/Normal\" | egrep -c '^-'\n",
        "!ls -l \"/content/gdrive/My Drive/HumanBehaviors/C3D_Feature_txt/Train_RoadAccidents/Abnormal\" | egrep -c '^-'\n",
        "!ls -l \"/content/gdrive/My Drive/HumanBehaviors/C3D_Feature_txt/Test_RoadAccidents\" | egrep -c '^-'"
      ],
      "execution_count": 9,
      "outputs": [
        {
          "output_type": "stream",
          "text": [
            "330\n",
            "366\n",
            "100\n"
          ],
          "name": "stdout"
        }
      ]
    },
    {
      "cell_type": "markdown",
      "metadata": {
        "id": "I6G7ePd1Wl67",
        "colab_type": "text"
      },
      "source": [
        "# Load and label video (0/1), implement objective function\n",
        "\n",
        "1.   Utility functions: load/save model/weight, load video feature and make label (0/1) in batch size of 60.\n",
        "2.   Objective function\n",
        "\n"
      ]
    },
    {
      "cell_type": "code",
      "metadata": {
        "id": "ugLuD5rsRYeD",
        "colab_type": "code",
        "colab": {}
      },
      "source": [
        "def load_model(json_path):\n",
        "    model = model_from_json(open(json_path).read())\n",
        "    return model\n",
        "\n",
        "def load_weights(model, weight_path): # Function to load the model weights\n",
        "    dict2 = loadmat(weight_path)\n",
        "    dict = conv_dict(dict2)\n",
        "    i = 0\n",
        "    for layer in model.layers:\n",
        "        weights = dict[str(i)]\n",
        "        layer.set_weights(weights)\n",
        "        i += 1\n",
        "    return model\n",
        "\n",
        "def conv_dict(dict2):\n",
        "    i = 0\n",
        "    dict = {}\n",
        "    for i in range(len(dict2)):\n",
        "        if str(i) in dict2:\n",
        "            if dict2[str(i)].shape == (0, 0):\n",
        "                dict[str(i)] = dict2[str(i)]\n",
        "            else:\n",
        "                weights = dict2[str(i)][0]\n",
        "                weights2 = []\n",
        "                for weight in weights:\n",
        "                    if weight.shape in [(1, x) for x in range(0, 5000)]:\n",
        "                        weights2.append(weight[0])\n",
        "                    else:\n",
        "                        weights2.append(weight)\n",
        "                dict[str(i)] = weights2\n",
        "    return dict\n",
        "\n",
        "def save_model(model, json_path, weight_path):\n",
        "    json_string = model.to_json()\n",
        "    open(json_path, 'w').write(json_string)\n",
        "    dict = {}\n",
        "    i = 0\n",
        "    for layer in model.layers:\n",
        "        weights = layer.get_weights()\n",
        "        my_list = np.zeros(len(weights), dtype=np.object)\n",
        "        my_list[:] = weights\n",
        "        dict[str(i)] = my_list\n",
        "        i += 1\n",
        "    savemat(weight_path, dict)\n",
        "\n",
        "\n",
        "# Load Training Dataset and label training videos\n",
        "\n",
        "def load_dataset_Train_batch(AbnormalPath, NormalPath):\n",
        "\n",
        "    batchsize=60            # Each batch contain 60 videos.\n",
        "    n_exp=int(batchsize/2)  # 30 normal and 30 road accident videos\n",
        "\n",
        "    Num_abnormal = 366  # number of road accident videos in Training set.\n",
        "    Num_Normal = 330    # number of normal videos in Training set.\n",
        "\n",
        "\n",
        "    # We assume the features of abnormal videos and normal videos are located in two different folders.\n",
        "    Abnor_list_iter = np.random.permutation(Num_abnormal)\n",
        "    Abnor_list_iter = Abnor_list_iter[Num_abnormal-n_exp:] # Indexes for randomly selected Abnormal Videos\n",
        "    Norm_list_iter = np.random.permutation(Num_Normal)\n",
        "    Norm_list_iter = Norm_list_iter[Num_Normal-n_exp:]     # Indexes for randomly selected Normal Videos\n",
        "\n",
        "    AllVideos_Path = AbnormalPath\n",
        "    def listdir_nohidden(AllVideos_Path):  # To ignore hidden files\n",
        "        file_dir_extension = os.path.join(AllVideos_Path, '*_C.txt')\n",
        "        for f in glob.glob(file_dir_extension):\n",
        "            if not f.startswith('.'):\n",
        "                yield os.path.basename(f)\n",
        "\n",
        "    All_Videos=sorted(listdir_nohidden(AllVideos_Path))\n",
        "    All_Videos.sort()\n",
        "    AllFeatures = []  # To store C3D features of a batch\n",
        "    print(\"Loading Abnormal videos Features...\")\n",
        "\n",
        "    Video_count=-1\n",
        "    \n",
        "    ###################### READ RANDOMLY ABNORMAL FEATURE 32x4096 #################\n",
        "    for iv in Abnor_list_iter:\n",
        "        Video_count=Video_count+1\n",
        "        VideoPath = os.path.join(AllVideos_Path, All_Videos[iv])\n",
        "        f = open(VideoPath, \"r\")\n",
        "        words = f.read().split()\n",
        "        num_feat = int(len(words) / 4096)\n",
        "        # Number of features per video to be loaded.\n",
        "        # In our case num_feat=32, as we divide the video into 32 segments. \n",
        "\n",
        "        count = -1;\n",
        "        VideoFeatues = []\n",
        "        for feat in range(0, num_feat):\n",
        "            feat_row1 = np.float32(words[feat * 4096:feat * 4096 + 4096])\n",
        "            count = count + 1\n",
        "            if count == 0:\n",
        "                VideoFeatues = feat_row1\n",
        "            if count > 0:\n",
        "                VideoFeatues = np.vstack((VideoFeatues, feat_row1))\n",
        "\n",
        "        if Video_count == 0:\n",
        "            AllFeatures = VideoFeatues\n",
        "        if Video_count > 0:\n",
        "            AllFeatures = np.vstack((AllFeatures, VideoFeatues))\n",
        "\n",
        "        \n",
        "        \n",
        "    print(\"Loading Normal videos...\")\n",
        "    AllVideos_Path =  NormalPath\n",
        "\n",
        "    def listdir_nohidden(AllVideos_Path):  # To ignore hidden files\n",
        "        file_dir_extension = os.path.join(AllVideos_Path, '*_C.txt')\n",
        "        for f in glob.glob(file_dir_extension):\n",
        "            if not f.startswith('.'):\n",
        "                yield os.path.basename(f)\n",
        "\n",
        "    All_Videos = sorted(listdir_nohidden(AllVideos_Path))\n",
        "    All_Videos.sort()\n",
        "\n",
        "    for iv in Norm_list_iter:\n",
        "        VideoPath = os.path.join(AllVideos_Path, All_Videos[iv])\n",
        "        f = open(VideoPath, \"r\")\n",
        "        words = f.read().split()\n",
        "        feat_row1 = np.array([])\n",
        "        num_feat = int(len(words) /4096)   \n",
        "        # Number of features to be loaded. \n",
        "        # In our case num_feat=32, as we divide the video into 32 segments.\n",
        "\n",
        "        count = -1;\n",
        "        VideoFeatues = []\n",
        "        for feat in range(0, num_feat):\n",
        "\n",
        "\n",
        "            feat_row1 = np.float32(words[feat * 4096:feat * 4096 + 4096])\n",
        "            count = count + 1\n",
        "            if count == 0:\n",
        "                VideoFeatues = feat_row1\n",
        "            if count > 0:\n",
        "                VideoFeatues = np.vstack((VideoFeatues, feat_row1))\n",
        "            feat_row1 = []\n",
        "        AllFeatures = np.vstack((AllFeatures, VideoFeatues))\n",
        "\n",
        "    print(\"Features  loaded\")\n",
        "\n",
        "\n",
        "    AllLabels = np.zeros(32*batchsize, dtype='uint8') \n",
        "    # 60*32 = 1920 label, 0/1 (INTEGER, please remember, regression init)\n",
        "    \n",
        "    th_loop1=n_exp*32\n",
        "    th_loop2=n_exp*32-1\n",
        "    \n",
        "    # mini-batch size = 60, 30 normals, 30 abnormals\n",
        "    # --> 30*32= 640 feature vectors for 32 segments and 30 videos\n",
        "\n",
        "\n",
        "    # Load Abnormal path fist--> index 0-639 is assigned value 0,\n",
        "    # remains 640 from th_loop2 = 640-1920 to label 1\n",
        "    \n",
        "    for iv in range(0, 32*batchsize): # 1920\n",
        "            if iv< th_loop1:\n",
        "                AllLabels[iv] = int(0)  # All instances of abnormal videos are labeled 0.  This will be used in custom_objective to keep track of normal and abnormal videos indexes.\n",
        "            if iv > th_loop2:\n",
        "                AllLabels[iv] = int(1)   # All instances of Normal videos are labeled 1. This will be used in custom_objective to keep track of normal and abnormal videos indexes.\n",
        "\n",
        "          # There are 1920 labels in total (all instances 32segment*60video a batch)\n",
        "          \n",
        "    return  AllFeatures,AllLabels\n",
        "\n"
      ],
      "execution_count": 0,
      "outputs": []
    },
    {
      "cell_type": "markdown",
      "metadata": {
        "id": "Ub8Gd8QYn3sY",
        "colab_type": "text"
      },
      "source": [
        "**Objective function**"
      ]
    },
    {
      "cell_type": "code",
      "metadata": {
        "id": "UQnCfdcDn3KV",
        "colab_type": "code",
        "colab": {}
      },
      "source": [
        "\n",
        "def custom_objective(y_true, y_pred):\n",
        "  \n",
        "    y_true = T.flatten(y_true)\n",
        "    y_pred = T.flatten(y_pred)\n",
        "    n_seg = 32  \n",
        "    nvid = 60\n",
        "    n_exp = int(nvid / 2)\n",
        "    Num_d=32*nvid\n",
        "\n",
        "\n",
        "    sub_max = T.ones_like(y_pred) # sub_max represents the highest scoring instants in bags (videos).\n",
        "    sub_sum_labels = T.ones_like(y_true) # It is used to sum the labels in order to distinguish between normal and abnormal videos.\n",
        "    sub_sum_l1=T.ones_like(y_true)  # For holding the concatenation of summation of scores in the bag.\n",
        "    sub_l2 = T.ones_like(y_true) # For holding the concatenation of L2 of score in the bag.\n",
        "    \n",
        "    \n",
        "    for ii in range(0, nvid, 1):\n",
        "        # For Labels\n",
        "        mm = y_true[ii * n_seg:ii * n_seg + n_seg]\n",
        "        sub_sum_labels = T.concatenate([sub_sum_labels, T.stack(T.sum(mm))])  # Just to keep track of abnormal and normal vidoes\n",
        "        \n",
        "        # For Features scores\n",
        "        Feat_Score = y_pred[ii * n_seg:ii * n_seg + n_seg]\n",
        "        sub_max = T.concatenate([sub_max, T.stack(T.max(Feat_Score))])         # Keep the maximum score of scores of all instances in a Bag (video)\n",
        "        sub_sum_l1 = T.concatenate([sub_sum_l1, T.stack(T.sum(Feat_Score))])   # Keep the sum of scores of all instances in a Bag (video)\n",
        "        \n",
        "        z1 = T.ones_like(Feat_Score)\n",
        "        z2 = T.concatenate([z1, Feat_Score])\n",
        "        z3 = T.concatenate([Feat_Score, z1])\n",
        "        z_22 = z2[31:]\n",
        "        z_44 = z3[:33]\n",
        "        z = z_22 - z_44\n",
        "        z = z[1:32]\n",
        "        z = T.sum(T.sqr(z))\n",
        "        sub_l2 = T.concatenate([sub_l2, T.stack(z)])\n",
        "\n",
        "    # sub_max[Num_d:] means include all elements after Num_d.\n",
        "    # AllLabels =[2 , 4, 3 ,9 ,6 ,12,7 ,18 ,9 ,14]\n",
        "    # z=x[4:]\n",
        "    #[  6.  12.   7.  18.   9.  14.]\n",
        "\n",
        "    sub_score = sub_max[Num_d:]  # We need this step since we have used T.ones_like\n",
        "    F_labels = sub_sum_labels[Num_d:] # We need this step since we have used T.ones_like\n",
        "    #  F_labels contains integer 32 for normal video and 0 for abnormal videos. This because of labeling done at the end of \"load_dataset_Train_batch\"\n",
        "\n",
        "\n",
        "\n",
        "    # AllLabels =[2 , 4, 3 ,9 ,6 ,12,7 ,18 ,9 ,14]\n",
        "    # z=x[:4]\n",
        "    # [ 2 4 3 9]... This shows 0 to 3 elements\n",
        "\n",
        "    sub_sum_l1 = sub_sum_l1[Num_d:] # We need this step since we have used T.ones_like\n",
        "    sub_sum_l1 = sub_sum_l1[:n_exp]\n",
        "    sub_l2 = sub_l2[Num_d:]         # We need this step since we have used T.ones_like\n",
        "    sub_l2 = sub_l2[:n_exp]\n",
        "\n",
        "\n",
        "    indx_nor = theano.tensor.eq(F_labels, 32).nonzero()[0]  # Index of normal videos: Since we labeled 1 for each of 32 segments of normal videos F_labels=32 for normal video\n",
        "    indx_abn = theano.tensor.eq(F_labels, 0).nonzero()[0]\n",
        "\n",
        "    n_Nor=n_exp\n",
        "\n",
        "    Sub_Nor = sub_score[indx_nor] # Maximum Score for each of abnormal video\n",
        "    Sub_Abn = sub_score[indx_abn] # Maximum Score for each of normal video\n",
        "\n",
        "    z = T.ones_like(y_true)\n",
        "    for ii in range(0, n_Nor, 1):\n",
        "        sub_z = T.maximum(1 - Sub_Abn + Sub_Nor[ii], 0) + T.maximum(0, Sub_Nor[ii] - T.log2(Sub_Abn))\n",
        "        z = T.concatenate([z, T.stack(T.sum(sub_z))])\n",
        "\n",
        "    z = z[Num_d:]  # We need this step since we have used T.ones_like\n",
        "    z = T.mean(z, axis=-1) +  0.00008*T.sum(sub_sum_l1) + 0.00008*T.sum(sub_l2)  # Final Loss f\n",
        "    \n",
        "    return z # this is y_predicted tensor, the return of loss function\n"
      ],
      "execution_count": 0,
      "outputs": []
    },
    {
      "cell_type": "markdown",
      "metadata": {
        "id": "Cx9YwFb0dLZu",
        "colab_type": "text"
      },
      "source": [
        "# Training code\n",
        "**Train on batch, size of 60, save model's weight after each 1000 iterations.**\n",
        "\n",
        "\n",
        "1.   Input: specify video feature (txt file) directory (Normal and Abnormal); directory to save the weight;\n",
        "2.   Output: model's weight (*.mat file). In addition, plot the loss value in every batch after 20 iterations.\n",
        "\n"
      ]
    },
    {
      "cell_type": "code",
      "metadata": {
        "id": "9AFMGfLvcz_n",
        "colab_type": "code",
        "colab": {
          "base_uri": "https://localhost:8080/",
          "height": 1000
        },
        "outputId": "9ffa47f6-2cfe-445b-aef7-160cf3762f73"
      },
      "source": [
        "adagrad=Adagrad(lr=0.01, epsilon=1e-08)\n",
        "\n",
        "model.compile(loss=custom_objective, optimizer=adagrad)\n",
        "\n",
        "print(\"Starting training...\")\n",
        "\n",
        "AllClassPath='/content/gdrive/My Drive/HumanBehaviors/C3D_Feature_txt/Train_RoadAccidents/'\n",
        "# AllClassPath contains C3D features (.txt file)  of each video. Each text file contains 32 features, each of 4096 dimension\n",
        "output_dir='/content/gdrive/My Drive/HumanBehaviors/Result/Weight/'\n",
        "# Output_dir is the directory where you want to save trained weights\n",
        "\n",
        "loss_dir = 'content/gdrive/My Drive/HumanBehaviors/Result/Loss' # to save figure\n",
        "weights_path = output_dir + 'weights.mat'\n",
        "# weights.mat are the model weights that you will get after (or during) that training\n",
        "model_path = output_dir + 'model.json'\n",
        "\n",
        "if not os.path.exists(output_dir):\n",
        "       os.makedirs(output_dir)\n",
        "    \n",
        "if not os.path.exists(loss_dir):\n",
        "       os.makedirs(loss_dir)\n",
        "    \n",
        "All_class_files= listdir(AllClassPath)\n",
        "All_class_files.sort()\n",
        "loss_graph =[]\n",
        "num_iters = 10000\n",
        "total_iterations = 0\n",
        "batchsize=60\n",
        "time_before = datetime.now()\n",
        "\n",
        "for it_num in range(num_iters):\n",
        "\n",
        "    AbnormalPath = os.path.join(AllClassPath, All_class_files[0])  # Path of abnormal already computed C3D features\n",
        "    NormalPath = os.path.join(AllClassPath, All_class_files[1])    # Path of Normal already computed C3D features\n",
        "    inputs, targets=load_dataset_Train_batch(AbnormalPath, NormalPath)  # Load normal and abnormal video C3D features\n",
        "    # INPUTS: (1920x4096)\n",
        "    # Targets (1920,) (32*60 video)\n",
        "    # INPUT: \n",
        "    #   1/ A BATCH of 1920 feature vector (4096d) for each segment, 810 abnormal, 798 normal\n",
        "    #   2/ LABEL of 1920 segments, integer value 0/1 (regression)\n",
        "    \n",
        "    print(\"------------------- TRAIN ON BATCH- iteration \", it_num)\n",
        "    batch_loss =model.train_on_batch(inputs, targets)\n",
        "    loss_graph = np.hstack((loss_graph, batch_loss)) #put to stack of numpy array\n",
        "    total_iterations += 1\n",
        "    \n",
        "    # PLOT THE LOSS\n",
        "    plt.plot(loss_graph, label='loss')\n",
        "    plt.title('Loss')\n",
        "    plt.legend()\n",
        "    plt.xlabel('Number of iteration')\n",
        "    plt.ylabel('Loss')\n",
        "    \n",
        "    if total_iterations % 20 == 1:\n",
        "      plt.savefig(loss_dir + 'loss_' + str(total_iterations) +'.png')\n",
        "      print(\"These iteration=\" + str(total_iterations) + \") took: \" + str(datetime.now() - time_before) + \", with loss of \" + str(batch_loss))\n",
        "    plt.show()\n",
        "      \n",
        "    if total_iterations % 20 == 1:\n",
        "        iteration_path = output_dir + 'Iterations_graph_' + str(total_iterations) + '.mat'\n",
        "        savemat(iteration_path, dict(loss_graph=loss_graph))\n",
        "        clear_output()\n",
        "    if total_iterations % 1000 == 0:  # Save the model at every 1000th iterations.\n",
        "       weights_path = output_dir + 'weights_AllLoss2_L1L2_' + str(total_iterations) + '.mat'\n",
        "       save_model(model, model_path, weights_path)\n",
        "\n",
        "save_model(model, model_path, weights_path)"
      ],
      "execution_count": 18,
      "outputs": [
        {
          "output_type": "stream",
          "text": [
            "Loading Abnormal videos Features...\n",
            "Loading Normal videos...\n",
            "Features  loaded\n",
            "------------------- TRAIN ON BATCH- iteration  221\n"
          ],
          "name": "stdout"
        },
        {
          "output_type": "display_data",
          "data": {
            "image/png": "[encoded data removed]",
            "text/plain": [
              "<Figure size 432x288 with 1 Axes>"
            ]
          },
          "metadata": {
            "tags": []
          }
        },
        {
          "output_type": "stream",
          "text": [
            "Loading Abnormal videos Features...\n",
            "Loading Normal videos...\n",
            "Features  loaded\n",
            "------------------- TRAIN ON BATCH- iteration  222\n"
          ],
          "name": "stdout"
        },
        {
          "output_type": "display_data",
          "data": {
            "image/png": "[encoded data removed]",
            "text/plain": [
              "<Figure size 432x288 with 1 Axes>"
            ]
          },
          "metadata": {
            "tags": []
          }
        },
        {
          "output_type": "stream",
          "text": [
            "Loading Abnormal videos Features...\n",
            "Loading Normal videos...\n",
            "Features  loaded\n",
            "------------------- TRAIN ON BATCH- iteration  223\n"
          ],
          "name": "stdout"
        },
        {
          "output_type": "display_data",
          "data": {
            "image/png": "[encoded data removed]",
            "text/plain": [
              "<Figure size 432x288 with 1 Axes>"
            ]
          },
          "metadata": {
            "tags": []
          }
        },
        {
          "output_type": "stream",
          "text": [
            "Loading Abnormal videos Features...\n",
            "Loading Normal videos...\n",
            "Features  loaded\n",
            "------------------- TRAIN ON BATCH- iteration  224\n"
          ],
          "name": "stdout"
        },
        {
          "output_type": "display_data",
          "data": {
            "image/png": "[encoded data removed]",
            "text/plain": [
              "<Figure size 432x288 with 1 Axes>"
            ]
          },
          "metadata": {
            "tags": []
          }
        },
        {
          "output_type": "stream",
          "text": [
            "Loading Abnormal videos Features...\n",
            "Loading Normal videos...\n"
          ],
          "name": "stdout"
        },
        {
          "output_type": "error",
          "ename": "KeyboardInterrupt",
          "evalue": "ignored",
          "traceback": [
            "\u001b[0;31m---------------------------------------------------------------------------\u001b[0m",
            "\u001b[0;31mKeyboardInterrupt\u001b[0m                         Traceback (most recent call last)",
            "\u001b[0;32m<ipython-input-18-3e926d857756>\u001b[0m in \u001b[0;36m<module>\u001b[0;34m()\u001b[0m\n\u001b[1;32m     33\u001b[0m     \u001b[0mAbnormalPath\u001b[0m \u001b[0;34m=\u001b[0m \u001b[0mos\u001b[0m\u001b[0;34m.\u001b[0m\u001b[0mpath\u001b[0m\u001b[0;34m.\u001b[0m\u001b[0mjoin\u001b[0m\u001b[0;34m(\u001b[0m\u001b[0mAllClassPath\u001b[0m\u001b[0;34m,\u001b[0m \u001b[0mAll_class_files\u001b[0m\u001b[0;34m[\u001b[0m\u001b[0;36m0\u001b[0m\u001b[0;34m]\u001b[0m\u001b[0;34m)\u001b[0m  \u001b[0;31m# Path of abnormal already computed C3D features\u001b[0m\u001b[0;34m\u001b[0m\u001b[0;34m\u001b[0m\u001b[0m\n\u001b[1;32m     34\u001b[0m     \u001b[0mNormalPath\u001b[0m \u001b[0;34m=\u001b[0m \u001b[0mos\u001b[0m\u001b[0;34m.\u001b[0m\u001b[0mpath\u001b[0m\u001b[0;34m.\u001b[0m\u001b[0mjoin\u001b[0m\u001b[0;34m(\u001b[0m\u001b[0mAllClassPath\u001b[0m\u001b[0;34m,\u001b[0m \u001b[0mAll_class_files\u001b[0m\u001b[0;34m[\u001b[0m\u001b[0;36m1\u001b[0m\u001b[0;34m]\u001b[0m\u001b[0;34m)\u001b[0m    \u001b[0;31m# Path of Normal already computed C3D features\u001b[0m\u001b[0;34m\u001b[0m\u001b[0;34m\u001b[0m\u001b[0m\n\u001b[0;32m---> 35\u001b[0;31m     \u001b[0minputs\u001b[0m\u001b[0;34m,\u001b[0m \u001b[0mtargets\u001b[0m\u001b[0;34m=\u001b[0m\u001b[0mload_dataset_Train_batch\u001b[0m\u001b[0;34m(\u001b[0m\u001b[0mAbnormalPath\u001b[0m\u001b[0;34m,\u001b[0m \u001b[0mNormalPath\u001b[0m\u001b[0;34m)\u001b[0m  \u001b[0;31m# Load normal and abnormal video C3D features\u001b[0m\u001b[0;34m\u001b[0m\u001b[0;34m\u001b[0m\u001b[0m\n\u001b[0m\u001b[1;32m     36\u001b[0m     \u001b[0;31m# INPUTS: (1920x4096)\u001b[0m\u001b[0;34m\u001b[0m\u001b[0;34m\u001b[0m\u001b[0;34m\u001b[0m\u001b[0m\n\u001b[1;32m     37\u001b[0m     \u001b[0;31m# Targets (1920,) (32*60 video)\u001b[0m\u001b[0;34m\u001b[0m\u001b[0;34m\u001b[0m\u001b[0;34m\u001b[0m\u001b[0m\n",
            "\u001b[0;32m<ipython-input-15-2db9bebb5741>\u001b[0m in \u001b[0;36mload_dataset_Train_batch\u001b[0;34m(AbnormalPath, NormalPath)\u001b[0m\n\u001b[1;32m    118\u001b[0m         \u001b[0mVideoPath\u001b[0m \u001b[0;34m=\u001b[0m \u001b[0mos\u001b[0m\u001b[0;34m.\u001b[0m\u001b[0mpath\u001b[0m\u001b[0;34m.\u001b[0m\u001b[0mjoin\u001b[0m\u001b[0;34m(\u001b[0m\u001b[0mAllVideos_Path\u001b[0m\u001b[0;34m,\u001b[0m \u001b[0mAll_Videos\u001b[0m\u001b[0;34m[\u001b[0m\u001b[0miv\u001b[0m\u001b[0;34m]\u001b[0m\u001b[0;34m)\u001b[0m\u001b[0;34m\u001b[0m\u001b[0;34m\u001b[0m\u001b[0m\n\u001b[1;32m    119\u001b[0m         \u001b[0mf\u001b[0m \u001b[0;34m=\u001b[0m \u001b[0mopen\u001b[0m\u001b[0;34m(\u001b[0m\u001b[0mVideoPath\u001b[0m\u001b[0;34m,\u001b[0m \u001b[0;34m\"r\"\u001b[0m\u001b[0;34m)\u001b[0m\u001b[0;34m\u001b[0m\u001b[0;34m\u001b[0m\u001b[0m\n\u001b[0;32m--> 120\u001b[0;31m         \u001b[0mwords\u001b[0m \u001b[0;34m=\u001b[0m \u001b[0mf\u001b[0m\u001b[0;34m.\u001b[0m\u001b[0mread\u001b[0m\u001b[0;34m(\u001b[0m\u001b[0;34m)\u001b[0m\u001b[0;34m.\u001b[0m\u001b[0msplit\u001b[0m\u001b[0;34m(\u001b[0m\u001b[0;34m)\u001b[0m\u001b[0;34m\u001b[0m\u001b[0;34m\u001b[0m\u001b[0m\n\u001b[0m\u001b[1;32m    121\u001b[0m         \u001b[0mfeat_row1\u001b[0m \u001b[0;34m=\u001b[0m \u001b[0mnp\u001b[0m\u001b[0;34m.\u001b[0m\u001b[0marray\u001b[0m\u001b[0;34m(\u001b[0m\u001b[0;34m[\u001b[0m\u001b[0;34m]\u001b[0m\u001b[0;34m)\u001b[0m\u001b[0;34m\u001b[0m\u001b[0;34m\u001b[0m\u001b[0m\n\u001b[1;32m    122\u001b[0m         \u001b[0mnum_feat\u001b[0m \u001b[0;34m=\u001b[0m \u001b[0mint\u001b[0m\u001b[0;34m(\u001b[0m\u001b[0mlen\u001b[0m\u001b[0;34m(\u001b[0m\u001b[0mwords\u001b[0m\u001b[0;34m)\u001b[0m \u001b[0;34m/\u001b[0m\u001b[0;36m4096\u001b[0m\u001b[0;34m)\u001b[0m\u001b[0;34m\u001b[0m\u001b[0;34m\u001b[0m\u001b[0m\n",
            "\u001b[0;31mKeyboardInterrupt\u001b[0m: "
          ]
        }
      ]
    },
    {
      "cell_type": "markdown",
      "metadata": {
        "id": "zzuhdgpCgAbb",
        "colab_type": "text"
      },
      "source": [
        "# Testing\n",
        "**Predict the score for each segment within a video on Testing set**\n",
        "\n",
        "\n",
        "1.   Input: model's weight (*.mat file), specify the directory of testing video feauture (100 videos)\n",
        "2.   Output: .*mat file, each file corresponds to each video score. A video score is a vector of 32-d, each value is abnormal score of each video segments.\n",
        "\n"
      ]
    },
    {
      "cell_type": "code",
      "metadata": {
        "id": "0IUdmsLrmnem",
        "colab_type": "code",
        "outputId": "e5e64024-1272-4afe-8d4c-6b9fe1632254",
        "colab": {
          "base_uri": "https://localhost:8080/",
          "height": 1000
        }
      },
      "source": [
        "seed = 7\n",
        "numpy.random.seed(seed)\n",
        "\n",
        "\n",
        "def load_model(json_path):  # Function to load the model\n",
        "    model = model_from_json(open(json_path).read())\n",
        "    return model\n",
        "\n",
        "def load_weights(model, weight_path):  # Function to load the model weights\n",
        "    dict2 = loadmat(weight_path)\n",
        "    dict = conv_dict(dict2)\n",
        "    i = 0\n",
        "    for layer in model.layers:\n",
        "        weights = dict[str(i)]\n",
        "        layer.set_weights(weights)\n",
        "        i += 1\n",
        "    return model\n",
        "\n",
        "def conv_dict(dict2):\n",
        "    i = 0\n",
        "    dict = {}\n",
        "    for i in range(len(dict2)):\n",
        "        if str(i) in dict2:\n",
        "            if dict2[str(i)].shape == (0, 0):\n",
        "                dict[str(i)] = dict2[str(i)]\n",
        "            else:\n",
        "                weights = dict2[str(i)][0]\n",
        "                weights2 = []\n",
        "                for weight in weights:\n",
        "                    if weight.shape in [(1, x) for x in range(0, 5000)]:\n",
        "                        weights2.append(weight[0])\n",
        "                    else:\n",
        "                        weights2.append(weight)\n",
        "                dict[str(i)] = weights2\n",
        "    return dict\n",
        "\n",
        "# Load Video\n",
        "\n",
        "def load_dataset_One_Video_Features(Test_Video_Path):\n",
        "\n",
        "    VideoPath =Test_Video_Path\n",
        "    f = open(VideoPath, \"r\")\n",
        "    words = f.read().split()\n",
        "    num_feat = int(len(words) / 4096)\n",
        "    # Number of features per video to be loaded. In our case num_feat=32, as we divide the video into 32 segments. Note that\n",
        "    # we have already computed C3D features for the whole video and divided the video features into 32 segments.\n",
        "\n",
        "    count = -1;\n",
        "    VideoFeatues = []\n",
        "    for feat in range(0, num_feat):\n",
        "        feat_row1 = np.float32(words[feat * 4096:feat * 4096 + 4096])\n",
        "        count = count + 1\n",
        "        if count == 0:\n",
        "            VideoFeatues = feat_row1\n",
        "        if count > 0:\n",
        "            VideoFeatues = np.vstack((VideoFeatues, feat_row1))\n",
        "    AllFeatures = VideoFeatues\n",
        "\n",
        "    return  AllFeatures\n",
        "\n",
        "\n",
        "\n",
        "print(\"Starting testing...\")\n",
        "\n",
        "\n",
        "AllTest_Video_Path = '/content/gdrive/My Drive/HumanBehaviors/C3D_Feature_txt/Test_RoadAccidents/'\n",
        "# AllTest_Video_Path contains C3D features (txt file)of each video.\n",
        "\n",
        "Results_Path = '/content/gdrive/My Drive/HumanBehaviors/Result/PredictedScore/'\n",
        "# Results_Path is the folder where you can save your results\n",
        "\n",
        "Model_dir='/content/gdrive/My Drive/HumanBehaviors/Result/Weight/'\n",
        "# Model_dir is the folder where we have placed our trained weights\n",
        "\n",
        "weights_path = Model_dir + 'weights_ALL_L1L2_10000.mat'\n",
        "# weights_path is Trained model weights\n",
        "\n",
        "model_path = Model_dir + 'model.json'\n",
        "\n",
        "if not os.path.exists(Results_Path):\n",
        "       os.makedirs(Results_Path)\n",
        "\n",
        "All_Test_files= listdir(AllTest_Video_Path)\n",
        "All_Test_files.sort()\n",
        "\n",
        "model=load_model(model_path)\n",
        "load_weights(model, weights_path)\n",
        "nVideos=len(All_Test_files)\n",
        "time_before = datetime.now()\n",
        "\n",
        "for iv in range(nVideos):\n",
        "\n",
        "    Test_Video_Path = os.path.join(AllTest_Video_Path, All_Test_files[iv])\n",
        "    inputs=load_dataset_One_Video_Features(Test_Video_Path) # 32 segments features for one testing video\n",
        "    predictions = model.predict_on_batch(inputs)   # Get anomaly prediction for each of 32 video segments.\n",
        "    aa=All_Test_files[iv]\n",
        "    aa=aa[0:-6]\n",
        "    A_predictions_path = Results_Path + aa + '.mat'  # Save array of 1*32, containing anomaly score for each segment. Please see Evaluate Anomaly Detector to compute  ROC.\n",
        "    savemat(A_predictions_path, dict(predictions = predictions))\n",
        "    print (A_predictions_path)\n",
        "    print (\"Total Time took: \" + str(datetime.now() - time_before))"
      ],
      "execution_count": 23,
      "outputs": [
        {
          "output_type": "stream",
          "text": [
            "Starting testing...\n",
            "/content/gdrive/My Drive/HumanBehaviors/Result/PredictedScore/Normal_Videos_006_x264.mat\n",
            "Total Time took: 0:00:09.286617\n",
            "/content/gdrive/My Drive/HumanBehaviors/Result/PredictedScore/Normal_Videos_033_x264.mat\n",
            "Total Time took: 0:00:09.899443\n",
            "/content/gdrive/My Drive/HumanBehaviors/Result/PredictedScore/Normal_Videos_034_x264.mat\n",
            "Total Time took: 0:00:10.564729\n",
            "/content/gdrive/My Drive/HumanBehaviors/Result/PredictedScore/Normal_Videos_050_x264.mat\n",
            "Total Time took: 0:00:11.045334\n",
            "/content/gdrive/My Drive/HumanBehaviors/Result/PredictedScore/Normal_Videos_051_x264.mat\n",
            "Total Time took: 0:00:11.470535\n",
            "/content/gdrive/My Drive/HumanBehaviors/Result/PredictedScore/Normal_Videos_1000_x264.mat\n",
            "Total Time took: 0:00:11.931150\n",
            "/content/gdrive/My Drive/HumanBehaviors/Result/PredictedScore/Normal_Videos_1010_x264.mat\n",
            "Total Time took: 0:00:12.365546\n",
            "/content/gdrive/My Drive/HumanBehaviors/Result/PredictedScore/Normal_Videos_168_x264.mat\n",
            "Total Time took: 0:00:12.844717\n",
            "/content/gdrive/My Drive/HumanBehaviors/Result/PredictedScore/Normal_Videos_189_x264.mat\n",
            "Total Time took: 0:00:13.319924\n",
            "/content/gdrive/My Drive/HumanBehaviors/Result/PredictedScore/Normal_Videos_203_x264.mat\n",
            "Total Time took: 0:00:13.843879\n",
            "/content/gdrive/My Drive/HumanBehaviors/Result/PredictedScore/Normal_Videos_210_x264.mat\n",
            "Total Time took: 0:00:14.306034\n",
            "/content/gdrive/My Drive/HumanBehaviors/Result/PredictedScore/Normal_Videos_251_x264.mat\n",
            "Total Time took: 0:00:14.700680\n",
            "/content/gdrive/My Drive/HumanBehaviors/Result/PredictedScore/Normal_Videos_478_x264.mat\n",
            "Total Time took: 0:00:15.313567\n",
            "/content/gdrive/My Drive/HumanBehaviors/Result/PredictedScore/Normal_Videos_576_x264.mat\n",
            "Total Time took: 0:00:15.742338\n",
            "/content/gdrive/My Drive/HumanBehaviors/Result/PredictedScore/Normal_Videos_606_x264.mat\n",
            "Total Time took: 0:00:16.346595\n",
            "/content/gdrive/My Drive/HumanBehaviors/Result/PredictedScore/Normal_Videos_634_x264.mat\n",
            "Total Time took: 0:00:16.708941\n",
            "/content/gdrive/My Drive/HumanBehaviors/Result/PredictedScore/Normal_Videos_656_x264.mat\n",
            "Total Time took: 0:00:17.476509\n",
            "/content/gdrive/My Drive/HumanBehaviors/Result/PredictedScore/Normal_Videos_696_x264.mat\n",
            "Total Time took: 0:00:17.885896\n",
            "/content/gdrive/My Drive/HumanBehaviors/Result/PredictedScore/Normal_Videos_780_x264.mat\n",
            "Total Time took: 0:00:18.308650\n",
            "/content/gdrive/My Drive/HumanBehaviors/Result/PredictedScore/Normal_Videos_781_x264.mat\n",
            "Total Time took: 0:00:18.743524\n",
            "/content/gdrive/My Drive/HumanBehaviors/Result/PredictedScore/Normal_Videos_798_x264.mat\n",
            "Total Time took: 0:00:19.179043\n",
            "/content/gdrive/My Drive/HumanBehaviors/Result/PredictedScore/Normal_Videos_872_x264.mat\n",
            "Total Time took: 0:00:19.722018\n",
            "/content/gdrive/My Drive/HumanBehaviors/Result/PredictedScore/Normal_Videos_875_x264.mat\n",
            "Total Time took: 0:00:20.455549\n",
            "/content/gdrive/My Drive/HumanBehaviors/Result/PredictedScore/Normal_Videos_877_x264.mat\n",
            "Total Time took: 0:00:20.926050\n",
            "/content/gdrive/My Drive/HumanBehaviors/Result/PredictedScore/Normal_Videos_878_x264.mat\n",
            "Total Time took: 0:00:21.510262\n",
            "/content/gdrive/My Drive/HumanBehaviors/Result/PredictedScore/Normal_Videos_896_x264.mat\n",
            "Total Time took: 0:00:21.954948\n",
            "/content/gdrive/My Drive/HumanBehaviors/Result/PredictedScore/Normal_Videos_900_x264.mat\n",
            "Total Time took: 0:00:22.413744\n",
            "/content/gdrive/My Drive/HumanBehaviors/Result/PredictedScore/Normal_Videos_901_x264.mat\n",
            "Total Time took: 0:00:22.914761\n",
            "/content/gdrive/My Drive/HumanBehaviors/Result/PredictedScore/Normal_Videos_902_x264.mat\n",
            "Total Time took: 0:00:23.563369\n",
            "/content/gdrive/My Drive/HumanBehaviors/Result/PredictedScore/Normal_Videos_903_x264.mat\n",
            "Total Time took: 0:00:24.037107\n",
            "/content/gdrive/My Drive/HumanBehaviors/Result/PredictedScore/Normal_Videos_904_x264.mat\n",
            "Total Time took: 0:00:24.472709\n",
            "/content/gdrive/My Drive/HumanBehaviors/Result/PredictedScore/Normal_Videos_905_x264.mat\n",
            "Total Time took: 0:00:24.928698\n",
            "/content/gdrive/My Drive/HumanBehaviors/Result/PredictedScore/Normal_Videos_906_x264.mat\n",
            "Total Time took: 0:00:25.511745\n",
            "/content/gdrive/My Drive/HumanBehaviors/Result/PredictedScore/Normal_Videos_907_x264.mat\n",
            "Total Time took: 0:00:25.949588\n",
            "/content/gdrive/My Drive/HumanBehaviors/Result/PredictedScore/Normal_Videos_908_x264.mat\n",
            "Total Time took: 0:00:26.553572\n",
            "/content/gdrive/My Drive/HumanBehaviors/Result/PredictedScore/Normal_Videos_909_x264.mat\n",
            "Total Time took: 0:00:27.197424\n",
            "/content/gdrive/My Drive/HumanBehaviors/Result/PredictedScore/Normal_Videos_910_x264.mat\n",
            "Total Time took: 0:00:27.943754\n",
            "/content/gdrive/My Drive/HumanBehaviors/Result/PredictedScore/Normal_Videos_911_x264.mat\n",
            "Total Time took: 0:00:28.442950\n",
            "/content/gdrive/My Drive/HumanBehaviors/Result/PredictedScore/Normal_Videos_912_x264.mat\n",
            "Total Time took: 0:00:28.881520\n",
            "/content/gdrive/My Drive/HumanBehaviors/Result/PredictedScore/Normal_Videos_913_x264.mat\n",
            "Total Time took: 0:00:29.320715\n",
            "/content/gdrive/My Drive/HumanBehaviors/Result/PredictedScore/Normal_Videos_914_x264.mat\n",
            "Total Time took: 0:00:29.741555\n",
            "/content/gdrive/My Drive/HumanBehaviors/Result/PredictedScore/Normal_Videos_915_x264.mat\n",
            "Total Time took: 0:00:30.419136\n",
            "/content/gdrive/My Drive/HumanBehaviors/Result/PredictedScore/Normal_Videos_955_x264.mat\n",
            "Total Time took: 0:00:30.863904\n",
            "/content/gdrive/My Drive/HumanBehaviors/Result/PredictedScore/Normal_Videos_957_x264.mat\n",
            "Total Time took: 0:00:31.338936\n",
            "/content/gdrive/My Drive/HumanBehaviors/Result/PredictedScore/Normal_Videos_958_x264.mat\n",
            "Total Time took: 0:00:31.808086\n",
            "/content/gdrive/My Drive/HumanBehaviors/Result/PredictedScore/Normal_Videos_959_x264.mat\n",
            "Total Time took: 0:00:32.546370\n",
            "/content/gdrive/My Drive/HumanBehaviors/Result/PredictedScore/Normal_Videos_962_x264.mat\n",
            "Total Time took: 0:00:32.990247\n",
            "/content/gdrive/My Drive/HumanBehaviors/Result/PredictedScore/Normal_Videos_965_x264.mat\n",
            "Total Time took: 0:00:33.419302\n",
            "/content/gdrive/My Drive/HumanBehaviors/Result/PredictedScore/Normal_Videos_968_x264.mat\n",
            "Total Time took: 0:00:34.028789\n",
            "/content/gdrive/My Drive/HumanBehaviors/Result/PredictedScore/Normal_Videos_970_x264.mat\n",
            "Total Time took: 0:00:34.478834\n",
            "/content/gdrive/My Drive/HumanBehaviors/Result/PredictedScore/Normal_Videos_972_x264.mat\n",
            "Total Time took: 0:00:34.900572\n",
            "/content/gdrive/My Drive/HumanBehaviors/Result/PredictedScore/Normal_Videos_973_x264.mat\n",
            "Total Time took: 0:00:35.299958\n",
            "/content/gdrive/My Drive/HumanBehaviors/Result/PredictedScore/Normal_Videos_978_x264.mat\n",
            "Total Time took: 0:00:35.712135\n",
            "/content/gdrive/My Drive/HumanBehaviors/Result/PredictedScore/Normal_Videos_982_x264.mat\n",
            "Total Time took: 0:00:36.152361\n",
            "/content/gdrive/My Drive/HumanBehaviors/Result/PredictedScore/Normal_Videos_984_x264.mat\n",
            "Total Time took: 0:00:36.815050\n",
            "/content/gdrive/My Drive/HumanBehaviors/Result/PredictedScore/Normal_Videos_986_x264.mat\n",
            "Total Time took: 0:00:37.228972\n",
            "/content/gdrive/My Drive/HumanBehaviors/Result/PredictedScore/Normal_Videos_988_x264.mat\n",
            "Total Time took: 0:00:37.669717\n",
            "/content/gdrive/My Drive/HumanBehaviors/Result/PredictedScore/Normal_Videos_989_x264.mat\n",
            "Total Time took: 0:00:38.205320\n",
            "/content/gdrive/My Drive/HumanBehaviors/Result/PredictedScore/RoadAccidents002_x264.mat\n",
            "Total Time took: 0:00:38.669751\n",
            "/content/gdrive/My Drive/HumanBehaviors/Result/PredictedScore/RoadAccidents009_x264.mat\n",
            "Total Time took: 0:00:39.281844\n",
            "/content/gdrive/My Drive/HumanBehaviors/Result/PredictedScore/RoadAccidents011_x264.mat\n",
            "Total Time took: 0:00:39.882141\n",
            "/content/gdrive/My Drive/HumanBehaviors/Result/PredictedScore/RoadAccidents012_x264.mat\n",
            "Total Time took: 0:00:40.502486\n",
            "/content/gdrive/My Drive/HumanBehaviors/Result/PredictedScore/RoadAccidents017_x264.mat\n",
            "Total Time took: 0:00:40.962817\n",
            "/content/gdrive/My Drive/HumanBehaviors/Result/PredictedScore/RoadAccidents022_x264.mat\n",
            "Total Time took: 0:00:41.411533\n",
            "/content/gdrive/My Drive/HumanBehaviors/Result/PredictedScore/RoadAccidents121_x264.mat\n",
            "Total Time took: 0:00:41.813678\n",
            "/content/gdrive/My Drive/HumanBehaviors/Result/PredictedScore/RoadAccidents122_x264.mat\n",
            "Total Time took: 0:00:42.188961\n",
            "/content/gdrive/My Drive/HumanBehaviors/Result/PredictedScore/RoadAccidents128_x264.mat\n",
            "Total Time took: 0:00:42.835236\n",
            "/content/gdrive/My Drive/HumanBehaviors/Result/PredictedScore/RoadAccidents131_x264.mat\n",
            "Total Time took: 0:00:43.532327\n",
            "/content/gdrive/My Drive/HumanBehaviors/Result/PredictedScore/RoadAccidents133_x264.mat\n",
            "Total Time took: 0:00:44.000146\n",
            "/content/gdrive/My Drive/HumanBehaviors/Result/PredictedScore/RoadAccidents309_x264.mat\n",
            "Total Time took: 0:00:44.749177\n",
            "/content/gdrive/My Drive/HumanBehaviors/Result/PredictedScore/RoadAccidents310_x264.mat\n",
            "Total Time took: 0:00:45.194343\n",
            "/content/gdrive/My Drive/HumanBehaviors/Result/PredictedScore/RoadAccidents315_x264.mat\n",
            "Total Time took: 0:00:46.402405\n",
            "/content/gdrive/My Drive/HumanBehaviors/Result/PredictedScore/RoadAccidents319_x264.mat\n",
            "Total Time took: 0:00:46.833885\n",
            "/content/gdrive/My Drive/HumanBehaviors/Result/PredictedScore/RoadAccidents320_x264.mat\n",
            "Total Time took: 0:00:47.296209\n",
            "/content/gdrive/My Drive/HumanBehaviors/Result/PredictedScore/RoadAccidents326_x264.mat\n",
            "Total Time took: 0:00:47.761449\n",
            "/content/gdrive/My Drive/HumanBehaviors/Result/PredictedScore/RoadAccidents330_x264.mat\n",
            "Total Time took: 0:00:48.237178\n",
            "/content/gdrive/My Drive/HumanBehaviors/Result/PredictedScore/RoadAccidents334_x264.mat\n",
            "Total Time took: 0:00:48.775843\n",
            "/content/gdrive/My Drive/HumanBehaviors/Result/PredictedScore/RoadAccidents335_x264.mat\n",
            "Total Time took: 0:00:49.284926\n",
            "/content/gdrive/My Drive/HumanBehaviors/Result/PredictedScore/RoadAccidents336_x264.mat\n",
            "Total Time took: 0:00:49.720353\n",
            "/content/gdrive/My Drive/HumanBehaviors/Result/PredictedScore/RoadAccidents337_x264.mat\n",
            "Total Time took: 0:00:50.280492\n",
            "/content/gdrive/My Drive/HumanBehaviors/Result/PredictedScore/RoadAccidents338_x264.mat\n",
            "Total Time took: 0:00:50.703446\n",
            "/content/gdrive/My Drive/HumanBehaviors/Result/PredictedScore/RoadAccidents341_x264.mat\n",
            "Total Time took: 0:00:51.146082\n",
            "/content/gdrive/My Drive/HumanBehaviors/Result/PredictedScore/RoadAccidents342_x264.mat\n",
            "Total Time took: 0:00:51.589007\n",
            "/content/gdrive/My Drive/HumanBehaviors/Result/PredictedScore/RoadAccidents343_x264.mat\n",
            "Total Time took: 0:00:52.171362\n",
            "/content/gdrive/My Drive/HumanBehaviors/Result/PredictedScore/RoadAccidents350_x264.mat\n",
            "Total Time took: 0:00:53.323848\n",
            "/content/gdrive/My Drive/HumanBehaviors/Result/PredictedScore/RoadAccidents355_x264.mat\n",
            "Total Time took: 0:00:53.758851\n",
            "/content/gdrive/My Drive/HumanBehaviors/Result/PredictedScore/RoadAccidents364_x264.mat\n",
            "Total Time took: 0:00:54.177101\n",
            "/content/gdrive/My Drive/HumanBehaviors/Result/PredictedScore/RoadAccidents366_x264.mat\n",
            "Total Time took: 0:00:54.736234\n",
            "/content/gdrive/My Drive/HumanBehaviors/Result/PredictedScore/RoadAccidents370_x264.mat\n",
            "Total Time took: 0:00:55.263033\n",
            "/content/gdrive/My Drive/HumanBehaviors/Result/PredictedScore/RoadAccidents377_x264.mat\n",
            "Total Time took: 0:00:55.843612\n",
            "/content/gdrive/My Drive/HumanBehaviors/Result/PredictedScore/RoadAccidents378_x264.mat\n",
            "Total Time took: 0:00:56.332105\n",
            "/content/gdrive/My Drive/HumanBehaviors/Result/PredictedScore/RoadAccidents386_x264.mat\n",
            "Total Time took: 0:00:56.771175\n",
            "/content/gdrive/My Drive/HumanBehaviors/Result/PredictedScore/RoadAccidents388_x264.mat\n",
            "Total Time took: 0:00:57.281459\n",
            "/content/gdrive/My Drive/HumanBehaviors/Result/PredictedScore/RoadAccidents391_x264.mat\n",
            "Total Time took: 0:00:57.700631\n",
            "/content/gdrive/My Drive/HumanBehaviors/Result/PredictedScore/RoadAccidents395_x264.mat\n",
            "Total Time took: 0:00:58.232349\n",
            "/content/gdrive/My Drive/HumanBehaviors/Result/PredictedScore/RoadAccidents396_x264.mat\n",
            "Total Time took: 0:00:58.655174\n",
            "/content/gdrive/My Drive/HumanBehaviors/Result/PredictedScore/RoadAccidents398_x264.mat\n",
            "Total Time took: 0:00:59.222798\n",
            "/content/gdrive/My Drive/HumanBehaviors/Result/PredictedScore/RoadAccidents399_x264.mat\n",
            "Total Time took: 0:00:59.710301\n",
            "/content/gdrive/My Drive/HumanBehaviors/Result/PredictedScore/RoadAccidents400_x264.mat\n",
            "Total Time took: 0:01:00.128769\n",
            "/content/gdrive/My Drive/HumanBehaviors/Result/PredictedScore/RoadAccidents405_x264.mat\n",
            "Total Time took: 0:01:00.628624\n"
          ],
          "name": "stdout"
        }
      ]
    }
  ]
}